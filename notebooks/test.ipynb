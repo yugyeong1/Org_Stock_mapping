{
 "cells": [
  {
   "cell_type": "code",
   "execution_count": 7,
   "outputs": [],
   "source": [
    "import pandas as pd\n",
    "\n",
    "df = pd.read_csv(\"C:/example/test_sample.csv\", encoding='latin1')\n",
    "df2 = pd.read_csv('C:/example/finish1.csv', encoding='latin1')"
   ],
   "metadata": {
    "collapsed": false,
    "pycharm": {
     "name": "#%%\n"
    }
   }
  },
  {
   "cell_type": "code",
   "execution_count": 8,
   "outputs": [],
   "source": [
    "# stock->stock으로 잘 분류한 애들 True로 출력\n",
    "address='C:/example/df3_1.csv'\n",
    "\n",
    "df3=df['symbol'] == df2['symbol']\n",
    "df3.to_csv(address)\n",
    "\n",
    "# True인 개수 -> stock-stock으로 잘 분류한 개수 구하기 위해서 새로 df가져오기\n",
    "df4 = pd.read_csv(address)"
   ],
   "metadata": {
    "collapsed": false,
    "pycharm": {
     "name": "#%%\n"
    }
   }
  },
  {
   "cell_type": "code",
   "execution_count": 9,
   "outputs": [
    {
     "name": "stdout",
     "output_type": "stream",
     "text": [
      "non_stock 개수 : 797\n",
      "stock 개수 : 203\n",
      "stock -> stock으로 분류한 개수 : 198\n",
      "non -> non으로 분류한 개수 : 751\n",
      "총 맵핑 수 : 249\n",
      "정확도 : 0.949\n"
     ]
    }
   ],
   "source": [
    "print('non_stock 개수 :',len(df[df['pk']=='Non_stock']))\n",
    "print('stock 개수 :',len(df[df['pk']!='Non_stock']['pk']))\n",
    "print('stock -> stock으로 분류한 개수 :',len(df4[df4['symbol']==True]))\n",
    "print('non -> non으로 분류한 개수 :',1000-len(df2[df2['pk']>0]['pk']))\n",
    "print('총 맵핑 수 :',len(df2[df2['pk']>0]['pk']))\n",
    "print('정확도 :',((1000-len(df2[df2['pk']>0]['pk'])) + len(df4[df4['symbol']==True]))/1000)"
   ],
   "metadata": {
    "collapsed": false,
    "pycharm": {
     "name": "#%%\n"
    }
   }
  },
  {
   "cell_type": "code",
   "execution_count": null,
   "outputs": [],
   "source": [],
   "metadata": {
    "collapsed": false,
    "pycharm": {
     "name": "#%%\n"
    }
   }
  }
 ],
 "metadata": {
  "kernelspec": {
   "display_name": "Python 3",
   "language": "python",
   "name": "python3"
  },
  "language_info": {
   "codemirror_mode": {
    "name": "ipython",
    "version": 2
   },
   "file_extension": ".py",
   "mimetype": "text/x-python",
   "name": "python",
   "nbconvert_exporter": "python",
   "pygments_lexer": "ipython2",
   "version": "2.7.6"
  }
 },
 "nbformat": 4,
 "nbformat_minor": 0
}