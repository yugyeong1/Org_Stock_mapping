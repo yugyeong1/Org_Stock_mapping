{
 "cells": [
  {
   "cell_type": "markdown",
   "source": [
    "## 전처리 함수"
   ],
   "metadata": {
    "collapsed": false,
    "pycharm": {
     "name": "#%% md\n"
    }
   }
  },
  {
   "cell_type": "code",
   "execution_count": 1,
   "outputs": [],
   "source": [
    "import pandas as pd\n",
    "import re\n",
    "from fuzzywuzzy import fuzz\n",
    "from selenium.common.exceptions import NoSuchElementException\n",
    "from selenium import webdriver\n",
    "from time import sleep\n",
    "\n",
    "org_df = pd.read_csv(\"../data/orginazation_label.csv\", encoding='latin1')  # org csv파일\n",
    "stock_df = pd.read_csv('../data/nasdaq_stocks.csv', encoding='latin1')  # stock list csv 파일\n",
    "rep_df = pd.read_csv('C:/projectnasdaq/nasdaq_stocks_refine_total.csv', encoding='latin1')  #대표단어로 정리된 csv 파일\n",
    "test_df = pd.read_csv('C:/example/test_sample.csv')  # 제대로 매핑이 됐는지 확인하기 위한 정답지 csv (1000개의 데이터를 직접 매핑한 csv)\n",
    "org_df = org_df.head(1000)\n",
    "\n",
    "stock_df.drop(columns=[\"sector\", \"industry\"], inplace=True)  # stock.csv에서 필요없는 컬럼 제거\n",
    "\n",
    "org_df = org_df[['label_id', 'news_id', 'word', 'label']]\n",
    "org_df['pk'] = 0\n",
    "org_df['sim_word'] = org_df['word']  # 유사도용 org 컬럼 생성\n",
    "org_df['rep_word'] = org_df['word']  # 대표단어용 org 컬럼 생성\n",
    "\n",
    "stock_df = stock_df[['pk', 'symbol', 'name']]\n",
    "stock_df['sim_stock'] = stock_df['name']  # 유사도용 stock 컬럼 생성\n",
    "org_df['token'] = 0\n",
    "\n",
    "# ORG단어와 종목명 소문자화\n",
    "org_df['sim_word'] = org_df['sim_word'].str.lower()\n",
    "stock_df['sim_stock'] = stock_df['sim_stock'].str.lower()\n",
    "org_df['rep_word'] = org_df['rep_word'].str.lower()\n",
    "\n",
    "# 정규식 전처리\n",
    "org_df['sim_word'] = org_df['sim_word'].apply(lambda x: re.sub('[^a-zA-Z\\d]', ' ', str(x)).strip())\n",
    "stock_df['sim_stock'] = stock_df['sim_stock'].apply(lambda x: re.sub('[^a-zA-Z\\d]', ' ', str(x)).strip())\n",
    "org_df['sim_word'] = org_df['sim_word'].apply(lambda x: re.sub(r'\\d+', ' ', str(x)).strip())\n",
    "stock_df['sim_stock'] = stock_df['sim_stock'].apply(lambda x: re.sub(r'\\d+', ' ', str(x)).strip())\n",
    "\n",
    "# 토큰 단어 먼저 불용어한 후 토큰화하기 위해서 먼저 전처리\n",
    "stop_words_token = {'bloomberg', 'inc', 'ltd', 'company', 'corporation', 'corp'}\n",
    "# ORG 단어들을 토큰화\n",
    "org_df['sim_word'].replace(stop_words_token, '', regex=True, inplace=True)\n",
    "org_df['token'] = org_df['sim_word'].str.split(\" \")\n",
    "\n",
    "token_list = org_df['token']\n",
    "# token 컬럼에 있는 띄어쓰기 지우기\n",
    "token_list = token_list.apply(lambda x: [i for i in x if i != \"\" and i != \" \"])\n",
    "token_list = token_list.apply(lambda x: x[:3])\n",
    "org_df['token'] = token_list\n",
    "\n",
    "# 불용어 리스트\"\n",
    "# ORG에 대한 불용어 리스트\n",
    "stop_words_org = {'bloomberg', 'inc', 'corp', 'ltd', 'company', 'corporation', 'composite', 'financial', 'plc',\n",
    "                  'international'}\n",
    "# stock_df['sim_stock'](종목명)에 대한 불용어 리스트\n",
    "stop_words_stock = {'inc', 'corp', 'ltd', 'company', 'corporation', 'fund', 'composite', 'financial', 'incorporated',\n",
    "                    'index', 'plc', 'international'}\n",
    "\n",
    "org_df['sim_word'].replace(stop_words_org, '', regex=True, inplace=True)\n",
    "stock_df['sim_stock'].replace(stop_words_stock, '', regex=True, inplace=True)\n",
    "\n",
    "# org와 stock의 젤 오른쪽에 붙은 'co', 공백 제거\n",
    "org_df['sim_word'] = org_df['sim_word'].str.rstrip(\"co\"\" \")\n",
    "stock_df['sim_stock'] = stock_df['sim_stock'].str.rstrip(\"co\"\" \")\n",
    "# 젤 왼쪽에 붙은 공백 제거\n",
    "org_df['sim_word'] = org_df['sim_word'].str.lstrip(\" \")\n",
    "\n",
    "# 매핑하기 위해서 리스트에 담아주기\n",
    "org_li = org_df['sim_word']\n",
    "stock_li = stock_df['sim_stock']\n",
    "rep_li = org_df['rep_word']"
   ],
   "metadata": {
    "collapsed": false,
    "pycharm": {
     "name": "#%%\n"
    }
   }
  },
  {
   "cell_type": "markdown",
   "source": [
    "## 맵핑 코드"
   ],
   "metadata": {
    "collapsed": false,
    "pycharm": {
     "name": "#%% md\n"
    }
   }
  },
  {
   "cell_type": "code",
   "execution_count": 58,
   "outputs": [
    {
     "name": "stderr",
     "output_type": "stream",
     "text": [
      "C:\\Users\\q1035\\anaconda3\\envs\\aip\\lib\\site-packages\\ipykernel_launcher.py:8: SettingWithCopyWarning: \n",
      "A value is trying to be set on a copy of a slice from a DataFrame\n",
      "\n",
      "See the caveats in the documentation: https://pandas.pydata.org/pandas-docs/stable/user_guide/indexing.html#returning-a-view-versus-a-copy\n",
      "  \n",
      "C:\\Users\\q1035\\anaconda3\\envs\\aip\\lib\\site-packages\\ipykernel_launcher.py:12: SettingWithCopyWarning: \n",
      "A value is trying to be set on a copy of a slice from a DataFrame\n",
      "\n",
      "See the caveats in the documentation: https://pandas.pydata.org/pandas-docs/stable/user_guide/indexing.html#returning-a-view-versus-a-copy\n",
      "  if sys.path[0] == '':\n"
     ]
    }
   ],
   "source": [
    "# ORG와 stocklist의 교집합이 존재시 맵핑\n",
    "for token_num, token in enumerate(token_list):\n",
    "    for stock_num, stock in enumerate(stock_li):\n",
    "        stock_list = stock.split(\" \")\n",
    "        together = set(stock_list) & set(token)\n",
    "        # ORG와 stock의 교집합이 2개일 경우 맵핑\n",
    "        if len(together) == 2:\n",
    "            org_df['pk'][token_num] = stock_df['pk'][stock_num]\n",
    "            break\n",
    "        # ORG와 stock의 교집합이 3개 이상일 경우 맵핑\n",
    "        elif len(together) >= 3:\n",
    "            org_df['pk'][token_num] = stock_df['pk'][stock_num]\n",
    "            break"
   ],
   "metadata": {
    "collapsed": false,
    "pycharm": {
     "name": "#%%\n"
    }
   }
  },
  {
   "cell_type": "code",
   "execution_count": 59,
   "outputs": [
    {
     "name": "stderr",
     "output_type": "stream",
     "text": [
      "C:\\Users\\q1035\\anaconda3\\envs\\aip\\lib\\site-packages\\ipykernel_launcher.py:5: SettingWithCopyWarning: \n",
      "A value is trying to be set on a copy of a slice from a DataFrame\n",
      "\n",
      "See the caveats in the documentation: https://pandas.pydata.org/pandas-docs/stable/user_guide/indexing.html#returning-a-view-versus-a-copy\n",
      "  \"\"\"\n"
     ]
    }
   ],
   "source": [
    "# 유사도 계산 ( 80 이상일 경우 맵핑 )\n",
    "for org_num, org in enumerate(org_li):\n",
    "    for stock_num, stock in enumerate(stock_li):\n",
    "        if fuzz.ratio(org, stock) > 80:\n",
    "            org_df['pk'][org_num] = stock_df['pk'][stock_num]\n",
    "            break"
   ],
   "metadata": {
    "collapsed": false,
    "pycharm": {
     "name": "#%%\n"
    }
   }
  },
  {
   "cell_type": "code",
   "execution_count": 60,
   "outputs": [],
   "source": [
    "# 크롤링 - 유사도가 80-85사이인 ORG들 따로 리스트에 담기\n",
    "result = []\n",
    "for org_num, org in enumerate(org_li):\n",
    "    for stock_num, stock in enumerate(stock_li):\n",
    "        if 80 <= fuzz.ratio(org, stock) <= 85:  # j가 org리스트\n",
    "            if org not in result:\n",
    "                result.append(org)\n",
    "                break\n",
    "# 리스트에 담은 org를 데이터프레임으로 변환\n",
    "result_pd = pd.DataFrame(result, columns=['org'])\n",
    "result_pd = result_pd['org']"
   ],
   "metadata": {
    "collapsed": false,
    "pycharm": {
     "name": "#%%\n"
    }
   }
  },
  {
   "cell_type": "code",
   "execution_count": 62,
   "outputs": [
    {
     "name": "stdout",
     "output_type": "stream",
     "text": [
      "moderna therapeutics -->nonstock\n",
      "org :  amazon , stock :  AMZN , symbol :  AMZN\n",
      "org :  united airlines holdings , stock :  UAL , symbol :  UAL\n",
      "org :  goldman sachs , stock :  GS , symbol :  GS\n",
      "org :  s p global , stock :  SPGI , symbol :  SPGI\n",
      "eskom holdings -->nonstock\n",
      "russian energy -->nonstock\n",
      "org :  new york times , stock :  NYT , symbol :  NYT\n",
      "org :  banco santander sa , stock :  SAN , symbol :  SAN\n",
      "group -->nonstock\n",
      "org :  bp , stock :  BP , symbol :  BP\n",
      "epic systems -->nonstock\n",
      "rhs -->nonstock\n",
      "tenev -->nonstock\n",
      "org :  horizon therapeutics , stock :  HZNP , symbol :  HZNP\n",
      "org :  vertex pharmaceuticals , stock :  VRTX , symbol :  VRTX\n",
      "times -->nonstock\n",
      "org :  citigroup , stock :  C , symbol :  C\n",
      "org :  vodacom group , stock :  VOD , symbol :  VOD\n",
      "cdc group -->nonstock\n",
      "org :  mtn group , stock :  MTN , symbol :  MTN\n",
      "crystal vision holdings -->nonstock\n",
      "vitol group -->nonstock\n",
      "saudi energy -->nonstock\n",
      "org :  eog resources , stock :  EOG , symbol :  EOG\n",
      "palantir technologies -->nonstock\n",
      "palantir technologies   times -->nonstock\n",
      "org :  spotify technologies sa , stock :  SPOT , symbol :  SPOT\n",
      "cannabis -->nonstock\n",
      "keaney -->nonstock\n",
      "csi -->nonstock\n",
      "work -->nonstock\n",
      "concho resources -->nonstock\n",
      "org :  rm , stock :  RM , symbol :  RM\n",
      "org :  ryanair holdings , stock :  RYAAY , symbol :  RYAAY\n",
      "org :  vir biotechnology , stock :  VIR , symbol :  VIR\n",
      "ideaya biosciences -->nonstock\n",
      "org :  biogen , stock :  BIIB , symbol :  BIIB\n",
      "nasa -->nonstock\n",
      "org :  upmsci , stock :  MSCI , symbol :  MSCI\n",
      "southern capital -->nonstock\n",
      "canadian  school -->nonstock\n",
      "slower testing -->nonstock\n",
      "brookfield asset management  of canada -->nonstock\n",
      "org :  kraft heinz , stock :  KHC , symbol :  KHC\n",
      "cru group -->nonstock\n",
      "org :  t mobile , stock :  TMUS , symbol :  TMUS\n",
      "org :  new t mobile us , stock :  TMUS , symbol :  TMUS\n",
      "us -->nonstock\n"
     ]
    }
   ],
   "source": [
    "# Google사이트에서 티커 정보 크롤링\n",
    "stock_symbol = stock_df['symbol']\n",
    "# 유사도가 80-85 사이인 ORG 단어들을 사용해서 티커 정보 크롤링\n",
    "for num_org, org in enumerate(result_pd):\n",
    "    # 옵션 생성 -> 크롤링 할 때 chrome 창 숨기기\n",
    "    options = webdriver.ChromeOptions()\n",
    "    options.add_argument(\"headless\")\n",
    "    driver = webdriver.Chrome('C:\\chromedriver\\chromedriver.exe', options=options)\n",
    "\n",
    "    base_url = 'https://www.google.com/search?q='\n",
    "    tail = org + \"+\" + \"stock\"\n",
    "    url = base_url + tail\n",
    "    driver.get(url)\n",
    "    driver.implicitly_wait(time_to_wait=10)\n",
    "    try:\n",
    "        stock = driver.find_element_by_xpath(\n",
    "            '//*[@id=\"rcnt\"]/div[1]/div/div/div[3]/div[1]/div/div[2]/div/div/div/div[2]/div[1]').text\n",
    "        driver.quit()\n",
    "        sleep(1)\n",
    "        stock = stock.split(\" \")[1]\n",
    "        for num_symbol, symbol in enumerate(stock_symbol):\n",
    "            # ORG 검색 결과의 Ticker와 stock의 Ticker가 같을 경우\n",
    "            if stock == symbol:\n",
    "                # ORG단어와 stock을 맵핑\n",
    "                print('org : ', org, ', stock : ', stock, ', symbol : ', symbol)\n",
    "                org_df.loc[org_df['sim_word'] == org, 'pk'] = stock_df['pk'][num_symbol]\n",
    "                break\n",
    "    # 검색 결과가 없으면 해당 org는 non_stock 처리\n",
    "    except NoSuchElementException:\n",
    "        org_df.loc[org_df['sim_word'] == org, 'pk'] = 0\n",
    "        print(org, '-->nonstock')\n",
    "        continue"
   ],
   "metadata": {
    "collapsed": false,
    "pycharm": {
     "name": "#%%\n"
    }
   }
  },
  {
   "cell_type": "code",
   "execution_count": null,
   "outputs": [],
   "source": [
    "# 유사도 계산 ( 유사도 90 이상일 경우 맵핑 )\n",
    "for org_num, org in enumerate(org_li):\n",
    "    for stock_num, stock in enumerate(stock_li):\n",
    "        if fuzz.ratio(org, stock) >= 90:\n",
    "            org_df['pk'][org_num] = stock_df['pk'][stock_num]\n",
    "            break"
   ],
   "metadata": {
    "collapsed": false,
    "pycharm": {
     "name": "#%%\n"
    }
   }
  },
  {
   "cell_type": "code",
   "execution_count": null,
   "outputs": [],
   "source": [
    "# 대표단어 csv 파일 이용해서 맵핑\n",
    "rep_li_a = rep_li.str.split(\" \")  # org단어\n",
    "l4 = rep_df['name_a'].str.split(\",\")  # 핵심단어로 정리된 stock_list\n",
    "# 대표단어 csv파일에서 대표단어 수가 2개일 때 첫번째 단어가 있으면 넘어가서 두번째 자리에 다음 단어가 있는지 확인 후 맵핑\n",
    "for i, j in enumerate(rep_li_a):  # 전처리 안한 org단어\n",
    "    for k, l in enumerate(l4):  # 대표단어로 정리된 stock_list\n",
    "        if len(l) == 1:\n",
    "            if l[0] in j:\n",
    "                org_df['pk'][i] = rep_df['pk'][k]\n",
    "                break\n",
    "        elif len(l) == 2:  # 대표단어가 2개로 된 단어일 때\n",
    "            if l[0] in j:  # 대표단어의 첫번째 단어가 org단어에 있으면\n",
    "                found = j.index(l[0])  # 대표단어의 첫번째 단어와 일치하는 org단어의 인덱스 위치 번호\n",
    "                try:\n",
    "                    search = found + 1  # stocklist의 첫번째 단어가 org에 포함됐을때 그 다음 단어\n",
    "                    search_found = j[search]  # org의 (+1을 한) 다음 단어에 해당\n",
    "                    if l[1] == search_found:\n",
    "                        org_df['pk'][i] = rep_df['pk'][k]\n",
    "                        break\n",
    "                except IndexError:\n",
    "                    continue\n",
    "        elif len(l) == 3:\n",
    "            if l[0] in j:\n",
    "                try:\n",
    "                    search_found = j[j.index(l[0]) + 1]\n",
    "                    if l[1] == search_found:\n",
    "                        two_found = j[j.index(l[0]) + 2]\n",
    "                        if l[2] == two_found:\n",
    "                            org_df['pk'][i] = rep_df['pk'][k]\n",
    "                            break\n",
    "                except IndexError:\n",
    "                    continue"
   ],
   "metadata": {
    "collapsed": false,
    "pycharm": {
     "name": "#%%\n"
    }
   }
  },
  {
   "cell_type": "code",
   "execution_count": null,
   "outputs": [],
   "source": [
    "# ORG와 stock이 완전 일치시 맵핑\n",
    "for org_num, org in enumerate(org_li):\n",
    "    for stock_num, stock in enumerate(stock_li):\n",
    "        if org == stock:\n",
    "            org_df['pk'][org_num] = stock_df['pk'][stock_num]\n",
    "            break"
   ],
   "metadata": {
    "collapsed": false,
    "pycharm": {
     "name": "#%%\n"
    }
   }
  },
  {
   "cell_type": "code",
   "execution_count": null,
   "outputs": [],
   "source": [
    "# 정말 stock이 아니라고 생각하는 단어가 포함되면 non_stock 처리\n",
    "stop_word_nonstock = {'university', 'federal reserve', 'committee', 'bank of', 'national institute', 'department',\n",
    "                      'united nation', 'commission', 'world bank'}\n",
    "for org_num, org in enumerate(org_li):\n",
    "    for stopword_num, stopword in enumerate(stop_word_nonstock):\n",
    "        if stopword in org:\n",
    "            org_df['pk'][org_num] = 0\n",
    "            break"
   ],
   "metadata": {
    "collapsed": false,
    "pycharm": {
     "name": "#%%\n"
    }
   }
  },
  {
   "cell_type": "code",
   "execution_count": null,
   "outputs": [],
   "source": [
    "# bank of america가 들어가면 맵핑\n",
    "banks = {'bank of america'}\n",
    "for org_num, org in enumerate(org_li):\n",
    "    for bank_num, bank in enumerate(banks):\n",
    "        if bank in org:\n",
    "            org_df['pk'][org_num] = 860"
   ],
   "metadata": {
    "collapsed": false,
    "pycharm": {
     "name": "#%%\n"
    }
   }
  },
  {
   "cell_type": "code",
   "execution_count": null,
   "outputs": [],
   "source": [
    "# org 데이터중 공백란인 데이터에 pk=291이 매핑돼서 pk=291인 데이터들 전부 non stock처리\n",
    "org_df.loc[org_df['pk'] == 291, 'pk'] = 0"
   ],
   "metadata": {
    "collapsed": false,
    "pycharm": {
     "name": "#%%\n"
    }
   }
  },
  {
   "cell_type": "code",
   "execution_count": null,
   "outputs": [],
   "source": [
    "org_df.drop(columns=[\"sim_word\", \"rep_word\", \"token\"], inplace=True)\n",
    "stock_df.drop(columns=[\"sim_stock\"], inplace=True)"
   ],
   "metadata": {
    "collapsed": false,
    "pycharm": {
     "name": "#%%\n"
    }
   }
  },
  {
   "cell_type": "code",
   "execution_count": null,
   "outputs": [],
   "source": [
    "print('전체개수 : ', len(org_df))\n",
    "print('분류된개수 : ', len(org_df[org_df['pk'] > 0]))\n",
    "print('분류된 비율 : ', len(org_df[org_df['pk'] > 0]) / len(org_df))"
   ],
   "metadata": {
    "collapsed": false,
    "pycharm": {
     "name": "#%%\n"
    }
   }
  },
  {
   "cell_type": "code",
   "execution_count": null,
   "outputs": [],
   "source": [
    "merge_left = pd.merge(org_df, stock_df, how='left', left_on='pk', right_on='pk')\n",
    "merge_left"
   ],
   "metadata": {
    "collapsed": false,
    "pycharm": {
     "name": "#%%\n"
    }
   }
  },
  {
   "cell_type": "code",
   "execution_count": 50,
   "outputs": [
    {
     "name": "stdout",
     "output_type": "stream",
     "text": [
      "non_stock 개수 : 796\n",
      "stock 개수 : 204\n",
      "stock -> stock으로 분류한 개수 : 200\n",
      "non -> non으로 분류한 개수 : 763\n",
      "총 맵핑 수 : 237\n",
      "정확도 : 96.3\n"
     ]
    }
   ],
   "source": [
    "address = \"C:/example/finish17.csv\"\n",
    "\n",
    "# 정확도 계산\n",
    "merge_left.to_csv(address)\n",
    "df_test = pd.read_csv(\"C:/example/test_sample.csv\", encoding='latin1')\n",
    "df2_test = pd.read_csv(address, encoding='latin1')\n",
    "# stock->stock으로 잘 분류한 애들 True로 출력\n",
    "address_2 = 'C:/example/df3_2.csv'\n",
    "\n",
    "df3 = df_test['symbol'] == df2_test['symbol']\n",
    "df3.to_csv(address_2)\n",
    "\n",
    "# True인 개수 -> stock-stock으로 잘 분류한 개수 구하기 위해서 새로 df가져오기\n",
    "df4 = pd.read_csv(address_2)\n",
    "\n",
    "print('non_stock 개수 :', len(test_df[test_df['pk'] == 'Non_stock']))\n",
    "print('stock 개수 :', len(test_df[test_df['pk'] != 'Non_stock']['pk']))\n",
    "print('stock -> stock으로 분류한 개수 :', len(df4[df4['symbol'] == True]))\n",
    "print('non -> non으로 분류한 개수 :', 1000 - len(df2_test[df2_test['pk'] > 0]['pk']))\n",
    "print('총 맵핑 수 :', len(df2_test[df2_test['pk'] > 0]['pk']))\n",
    "print('정확도 :', ((1000 - len(df2_test[df2_test['pk'] > 0]['pk'])) + len(df4[df4['symbol'] == True])) / 1000 * 100)"
   ],
   "metadata": {
    "collapsed": false,
    "pycharm": {
     "name": "#%%\n"
    }
   }
  }
 ],
 "metadata": {
  "kernelspec": {
   "display_name": "Python 3",
   "language": "python",
   "name": "python3"
  },
  "language_info": {
   "codemirror_mode": {
    "name": "ipython",
    "version": 2
   },
   "file_extension": ".py",
   "mimetype": "text/x-python",
   "name": "python",
   "nbconvert_exporter": "python",
   "pygments_lexer": "ipython2",
   "version": "2.7.6"
  }
 },
 "nbformat": 4,
 "nbformat_minor": 0
}