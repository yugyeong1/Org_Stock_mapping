{
 "cells": [
  {
   "cell_type": "markdown",
   "source": [
    "## 전처리 함수"
   ],
   "metadata": {
    "collapsed": false,
    "pycharm": {
     "name": "#%% md\n"
    }
   }
  },
  {
   "cell_type": "code",
   "execution_count": 1,
   "outputs": [],
   "source": [
    "# from nltk.stem import WordNetLemmatizer\n",
    "import pandas as pd\n",
    "import re\n",
    "from fuzzywuzzy import fuzz\n",
    "import numpy as np\n",
    "\n",
    "df = pd.read_csv(\"../data/orginazation_label.csv\", encoding='latin1')\n",
    "df2 = pd.read_csv('../data/nasdaq_stocks.csv', encoding='latin1')\n",
    "df3 = pd.read_csv('C:/projectnasdaq/nasdaq_stocks_refine_total.csv', encoding='latin1')\n",
    "df4 = pd.read_csv('C:/example/test_sample.csv')\n",
    "df = df.head(1000)\n",
    "\n",
    "df2.drop(columns=[\"sector\", \"industry\"], inplace=True)\n",
    "\n",
    "df = df[['label_id', 'news_id', 'word', 'label']]\n",
    "df['pk'] = 0\n",
    "df['word2'] = 0\n",
    "df['word2'] = df['word']\n",
    "\n",
    "df2 = df2[['pk', 'symbol', 'name']]\n",
    "df2['name_2'] = df2['name']\n",
    "df['token'] = 0\n",
    "\n",
    "# ORG단어와 종목명 소문자화\n",
    "df['word'] = df['word'].str.lower()\n",
    "df2['name_2'] = df2['name_2'].str.lower()\n",
    "df['word2'] = df['word2'].str.lower()\n",
    "\n",
    "# 정규식 전처리\n",
    "df['word'] = df['word'].apply(lambda x: re.sub('[^a-zA-Z0-9]', ' ', str(x)).strip())\n",
    "df2['name_2'] = df2['name_2'].apply(lambda x: re.sub('[^a-zA-Z0-9]', ' ', str(x)).strip())\n",
    "df['word'] = df['word'].apply(lambda x: re.sub(r'\\d+', ' ', str(x)).strip())\n",
    "df2['name_2'] = df2['name_2'].apply(lambda x: re.sub(r'\\d+', ' ', str(x)).strip())\n",
    "\n",
    "# 토큰 단어 먼저 불용어한 후 토큰화하기 위해서 먼저 전처리\n",
    "stop_words_token = {'bloomberg', 'inc',  'ltd', 'company','corporation','corp'}\n",
    "# ORG 단어들을 토큰화\n",
    "df['word'].replace(stop_words_token, '', regex=True, inplace=True)\n",
    "df['token'] = df['word'].str.split(\" \")\n",
    "\n",
    "token_list = df['token']\n",
    "# token 컬럼에 있는 띄어쓰기 지우기\n",
    "token_list = token_list.apply(lambda x: [i for i in x if i != \"\" and i != \" \"])\n",
    "token_list = token_list.apply(lambda x: x[:3])\n",
    "df['token'] = token_list\n",
    "\n",
    "# 불용어 리스트\"\n",
    "# ORG에 대한 불용어 리스트\n",
    "stop_words_1 = {'bloomberg', 'inc',  'corp', 'ltd', 'company', 'corporation' ,'composite', 'financial','plc'}\n",
    "# df2['name_2'](종목명)에 대한 불용어 리스트\n",
    "stop_words_2 = {'inc',  'corp', 'ltd', 'company', 'corporation', 'fund','composite', 'financial', 'incorporated','index','plc'}\n",
    "\n",
    "df['word'].replace(stop_words_1, '', regex=True, inplace=True)\n",
    "df2['name_2'].replace(stop_words_2, '', regex=True, inplace=True)\n",
    "\n",
    "df['word'] = df['word'].str.rstrip(\"co\"\" \")\n",
    "df2['name_2'] = df2['name_2'].str.rstrip(\"co\"\" \")\n",
    "\n",
    "\n",
    "df['word'] = df['word'].str.lstrip(\" \")\n",
    "\n",
    "l1 = df['word']\n",
    "l2 = df2['name_2']"
   ],
   "metadata": {
    "collapsed": false,
    "pycharm": {
     "name": "#%%\n"
    }
   }
  },
  {
   "cell_type": "code",
   "execution_count": 2,
   "outputs": [
    {
     "name": "stderr",
     "output_type": "stream",
     "text": [
      "C:\\Users\\q1035\\anaconda3\\envs\\aip\\lib\\site-packages\\ipykernel_launcher.py:7: SettingWithCopyWarning: \n",
      "A value is trying to be set on a copy of a slice from a DataFrame\n",
      "\n",
      "See the caveats in the documentation: https://pandas.pydata.org/pandas-docs/stable/user_guide/indexing.html#returning-a-view-versus-a-copy\n",
      "  import sys\n"
     ]
    }
   ],
   "source": [
    "# ORG와 stocklist의 교집합이 존재시 맵핑\n",
    "for p ,t in enumerate(token_list):\n",
    "    for j ,k in enumerate(l2):\n",
    "       k_list = k.split(\" \")\n",
    "       together = set(k_list)&set(t)\n",
    "       if len(together)>=2:\n",
    "            df['pk'][p] = df2['pk'][j]\n",
    "            break\n",
    "       elif len(together)>=3:\n",
    "            df['pk'][p] = df2['pk'][j]\n",
    "            break"
   ],
   "metadata": {
    "collapsed": false,
    "pycharm": {
     "name": "#%%\n"
    }
   }
  },
  {
   "cell_type": "code",
   "execution_count": 3,
   "outputs": [
    {
     "name": "stderr",
     "output_type": "stream",
     "text": [
      "C:\\Users\\q1035\\anaconda3\\envs\\aip\\lib\\site-packages\\ipykernel_launcher.py:5: SettingWithCopyWarning: \n",
      "A value is trying to be set on a copy of a slice from a DataFrame\n",
      "\n",
      "See the caveats in the documentation: https://pandas.pydata.org/pandas-docs/stable/user_guide/indexing.html#returning-a-view-versus-a-copy\n",
      "  \"\"\"\n"
     ]
    }
   ],
   "source": [
    "# 유사도 계산\n",
    "for i,j in enumerate(l1):\n",
    "    for k,l in enumerate(l2):\n",
    "        if fuzz.ratio(j, l)>80:\n",
    "            df['pk'][i]=df2['pk'][k]\n",
    "            break\n",
    "        elif fuzz.ratio(j, l)>90:\n",
    "            df['pk'][i]=df2['pk'][k]\n",
    "            break\n",
    "        elif j == l:\n",
    "            df['pk'][i] = df2['pk'][k]\n",
    "            break"
   ],
   "metadata": {
    "collapsed": false,
    "pycharm": {
     "name": "#%%\n"
    }
   }
  },
  {
   "cell_type": "code",
   "execution_count": 4,
   "outputs": [
    {
     "name": "stderr",
     "output_type": "stream",
     "text": [
      "C:\\Users\\q1035\\anaconda3\\envs\\aip\\lib\\site-packages\\ipykernel_launcher.py:18: SettingWithCopyWarning: \n",
      "A value is trying to be set on a copy of a slice from a DataFrame\n",
      "\n",
      "See the caveats in the documentation: https://pandas.pydata.org/pandas-docs/stable/user_guide/indexing.html#returning-a-view-versus-a-copy\n",
      "C:\\Users\\q1035\\anaconda3\\envs\\aip\\lib\\site-packages\\ipykernel_launcher.py:9: SettingWithCopyWarning: \n",
      "A value is trying to be set on a copy of a slice from a DataFrame\n",
      "\n",
      "See the caveats in the documentation: https://pandas.pydata.org/pandas-docs/stable/user_guide/indexing.html#returning-a-view-versus-a-copy\n",
      "  if __name__ == '__main__':\n"
     ]
    }
   ],
   "source": [
    "# 대표단어 csv 파일 이용해서 맵핑\n",
    "l3 = df['word2'].str.split(\" \") # 전처리 안한 org단어\n",
    "l4 = df3['name_a'].str.split(\",\") # 핵심단어로 정리된 stock_list\n",
    "# 대표단어 csv파일에서 대표단어 수가 2개일 때 첫번째 단어가 있으면 넘어가서 두번째 자리에 다음 단어가 있는지 확인 후 맵핑\n",
    "for i,j in enumerate(l3): # 전처리 안한 org단어\n",
    "    for k,l in enumerate(l4): # 대표단어로 정리된 stock_list\n",
    "        if len(l)==1:\n",
    "            if l[0] in j:\n",
    "                df['pk'][i]=df3['pk'][k]\n",
    "                break\n",
    "        elif len(l)==2: # 대표단어가 2개로 된 단어일 때\n",
    "            if l[0] in j: # 대표단어의 첫번째 단어가 org단어에 있으면\n",
    "                found = j.index(l[0]) # 대표단어의 첫번째 단어와 일치하는 org단어의 인덱스 위치\n",
    "                try:\n",
    "                    search = found+1 # stocklist의 첫번째 단어가 org에 포함됐을때 그 다음 단어\n",
    "                    search_found = j[search] # org의 (+1을 한) 다음 단어에 해당\n",
    "                    if l[1] == search_found:\n",
    "                        df['pk'][i]=df3['pk'][k]\n",
    "                        break\n",
    "                except IndexError: continue"
   ],
   "metadata": {
    "collapsed": false,
    "pycharm": {
     "name": "#%%\n"
    }
   }
  },
  {
   "cell_type": "code",
   "execution_count": 5,
   "outputs": [
    {
     "name": "stderr",
     "output_type": "stream",
     "text": [
      "C:\\Users\\q1035\\anaconda3\\envs\\aip\\lib\\site-packages\\ipykernel_launcher.py:6: SettingWithCopyWarning: \n",
      "A value is trying to be set on a copy of a slice from a DataFrame\n",
      "\n",
      "See the caveats in the documentation: https://pandas.pydata.org/pandas-docs/stable/user_guide/indexing.html#returning-a-view-versus-a-copy\n",
      "  \n"
     ]
    }
   ],
   "source": [
    "# 정말 stock이 아니라고 생각하는 단어가 포함되면 non처리\n",
    "stop_word_3 = {'university', 'federal reserve','committee','national institute','department', 'bank of','united nation','commission','world bank'}\n",
    "for i,j in enumerate(l1):\n",
    "    for k,l in enumerate(stop_word_3):\n",
    "        if l in j:\n",
    "            df['pk'][i]=0\n",
    "            break"
   ],
   "metadata": {
    "collapsed": false,
    "pycharm": {
     "name": "#%%\n"
    }
   }
  },
  {
   "cell_type": "code",
   "execution_count": 6,
   "outputs": [
    {
     "name": "stderr",
     "output_type": "stream",
     "text": [
      "C:\\Users\\q1035\\anaconda3\\envs\\aip\\lib\\site-packages\\ipykernel_launcher.py:6: SettingWithCopyWarning: \n",
      "A value is trying to be set on a copy of a slice from a DataFrame\n",
      "\n",
      "See the caveats in the documentation: https://pandas.pydata.org/pandas-docs/stable/user_guide/indexing.html#returning-a-view-versus-a-copy\n",
      "  \n"
     ]
    }
   ],
   "source": [
    "# bank of america가 들어가면 맵핑\n",
    "bank={'bank of america'}\n",
    "for i,j in enumerate(l1):\n",
    "    for k,l in enumerate(bank):\n",
    "        if l in j:\n",
    "            df['pk'][i]=860"
   ],
   "metadata": {
    "collapsed": false,
    "pycharm": {
     "name": "#%%\n"
    }
   }
  },
  {
   "cell_type": "code",
   "execution_count": 7,
   "outputs": [],
   "source": [
    "df.loc[df['pk']==291,'pk']=0"
   ],
   "metadata": {
    "collapsed": false,
    "pycharm": {
     "name": "#%%\n"
    }
   }
  },
  {
   "cell_type": "code",
   "execution_count": 8,
   "outputs": [],
   "source": [
    "df['word']=df4['word']"
   ],
   "metadata": {
    "collapsed": false,
    "pycharm": {
     "name": "#%%\n"
    }
   }
  },
  {
   "cell_type": "code",
   "execution_count": 9,
   "outputs": [],
   "source": [
    "df.drop(columns=[\"word2\", \"token\"], inplace=True)\n",
    "df2.drop(columns=[\"name_2\"], inplace=True)"
   ],
   "metadata": {
    "collapsed": false,
    "pycharm": {
     "name": "#%%\n"
    }
   }
  },
  {
   "cell_type": "code",
   "execution_count": 10,
   "outputs": [
    {
     "name": "stdout",
     "output_type": "stream",
     "text": [
      "전체개수 :  1000\n",
      "분류된개수 :  249\n",
      "분류된 비율 :  0.249\n"
     ]
    }
   ],
   "source": [
    "print('전체개수 : ',len(df))\n",
    "print('분류된개수 : ',len(df[df['pk']>0]))\n",
    "print('분류된 비율 : ',len(df[df['pk']>0])/len(df))"
   ],
   "metadata": {
    "collapsed": false,
    "pycharm": {
     "name": "#%%\n"
    }
   }
  },
  {
   "cell_type": "code",
   "execution_count": 11,
   "outputs": [
    {
     "data": {
      "text/plain": "     label_id  news_id                                               word  \\\n0     2516409   138767                          Oaktree Capital Group LLC   \n1     2516410   138767                                 DoubleLine Capital   \n2     2516413   138767                                    Federal Reserve   \n3     2516415   138767                                               ATMs   \n4     2516416   138767                                                Fed   \n..        ...      ...                                                ...   \n995   4435835   282468                                   House of Commons   \n996   4435844   282468                                            cinemas   \n997   4435850   282468  National Institute of Allergy, Infectious Dise...   \n998   4435851   282468                                     Morgan Stanley   \n999   4435852   282468                                                 R0   \n\n    label    pk symbol                         name  \n0     ORG  5466  OAK^A  Oaktree Capital Group LLC 6  \n1     ORG     0    NaN                          NaN  \n2     ORG     0    NaN                          NaN  \n3     ORG     0    NaN                          NaN  \n4     ORG     0    NaN                          NaN  \n..    ...   ...    ...                          ...  \n995   ORG     0    NaN                          NaN  \n996   ORG     0    NaN                          NaN  \n997   ORG     0    NaN                          NaN  \n998   ORG  4979     MS               Morgan Stanley  \n999   ORG     0    NaN                          NaN  \n\n[1000 rows x 7 columns]",
      "text/html": "<div>\n<style scoped>\n    .dataframe tbody tr th:only-of-type {\n        vertical-align: middle;\n    }\n\n    .dataframe tbody tr th {\n        vertical-align: top;\n    }\n\n    .dataframe thead th {\n        text-align: right;\n    }\n</style>\n<table border=\"1\" class=\"dataframe\">\n  <thead>\n    <tr style=\"text-align: right;\">\n      <th></th>\n      <th>label_id</th>\n      <th>news_id</th>\n      <th>word</th>\n      <th>label</th>\n      <th>pk</th>\n      <th>symbol</th>\n      <th>name</th>\n    </tr>\n  </thead>\n  <tbody>\n    <tr>\n      <th>0</th>\n      <td>2516409</td>\n      <td>138767</td>\n      <td>Oaktree Capital Group LLC</td>\n      <td>ORG</td>\n      <td>5466</td>\n      <td>OAK^A</td>\n      <td>Oaktree Capital Group LLC 6</td>\n    </tr>\n    <tr>\n      <th>1</th>\n      <td>2516410</td>\n      <td>138767</td>\n      <td>DoubleLine Capital</td>\n      <td>ORG</td>\n      <td>0</td>\n      <td>NaN</td>\n      <td>NaN</td>\n    </tr>\n    <tr>\n      <th>2</th>\n      <td>2516413</td>\n      <td>138767</td>\n      <td>Federal Reserve</td>\n      <td>ORG</td>\n      <td>0</td>\n      <td>NaN</td>\n      <td>NaN</td>\n    </tr>\n    <tr>\n      <th>3</th>\n      <td>2516415</td>\n      <td>138767</td>\n      <td>ATMs</td>\n      <td>ORG</td>\n      <td>0</td>\n      <td>NaN</td>\n      <td>NaN</td>\n    </tr>\n    <tr>\n      <th>4</th>\n      <td>2516416</td>\n      <td>138767</td>\n      <td>Fed</td>\n      <td>ORG</td>\n      <td>0</td>\n      <td>NaN</td>\n      <td>NaN</td>\n    </tr>\n    <tr>\n      <th>...</th>\n      <td>...</td>\n      <td>...</td>\n      <td>...</td>\n      <td>...</td>\n      <td>...</td>\n      <td>...</td>\n      <td>...</td>\n    </tr>\n    <tr>\n      <th>995</th>\n      <td>4435835</td>\n      <td>282468</td>\n      <td>House of Commons</td>\n      <td>ORG</td>\n      <td>0</td>\n      <td>NaN</td>\n      <td>NaN</td>\n    </tr>\n    <tr>\n      <th>996</th>\n      <td>4435844</td>\n      <td>282468</td>\n      <td>cinemas</td>\n      <td>ORG</td>\n      <td>0</td>\n      <td>NaN</td>\n      <td>NaN</td>\n    </tr>\n    <tr>\n      <th>997</th>\n      <td>4435850</td>\n      <td>282468</td>\n      <td>National Institute of Allergy, Infectious Dise...</td>\n      <td>ORG</td>\n      <td>0</td>\n      <td>NaN</td>\n      <td>NaN</td>\n    </tr>\n    <tr>\n      <th>998</th>\n      <td>4435851</td>\n      <td>282468</td>\n      <td>Morgan Stanley</td>\n      <td>ORG</td>\n      <td>4979</td>\n      <td>MS</td>\n      <td>Morgan Stanley</td>\n    </tr>\n    <tr>\n      <th>999</th>\n      <td>4435852</td>\n      <td>282468</td>\n      <td>R0</td>\n      <td>ORG</td>\n      <td>0</td>\n      <td>NaN</td>\n      <td>NaN</td>\n    </tr>\n  </tbody>\n</table>\n<p>1000 rows × 7 columns</p>\n</div>"
     },
     "execution_count": 11,
     "metadata": {},
     "output_type": "execute_result"
    }
   ],
   "source": [
    "merge_left = pd.merge(df,df2, how='left', left_on='pk', right_on='pk')\n",
    "merge_left"
   ],
   "metadata": {
    "collapsed": false,
    "pycharm": {
     "name": "#%%\n"
    }
   }
  },
  {
   "cell_type": "code",
   "execution_count": 12,
   "outputs": [],
   "source": [
    "merge_left.to_csv(\"C:/example/finish21.csv\")"
   ],
   "metadata": {
    "collapsed": false,
    "pycharm": {
     "name": "#%%\n"
    }
   }
  },
  {
   "cell_type": "code",
   "execution_count": 12,
   "outputs": [],
   "source": [],
   "metadata": {
    "collapsed": false,
    "pycharm": {
     "name": "#%%\n"
    }
   }
  }
 ],
 "metadata": {
  "kernelspec": {
   "display_name": "Python 3",
   "language": "python",
   "name": "python3"
  },
  "language_info": {
   "codemirror_mode": {
    "name": "ipython",
    "version": 2
   },
   "file_extension": ".py",
   "mimetype": "text/x-python",
   "name": "python",
   "nbconvert_exporter": "python",
   "pygments_lexer": "ipython2",
   "version": "2.7.6"
  }
 },
 "nbformat": 4,
 "nbformat_minor": 0
}